{
 "cells": [
  {
   "cell_type": "markdown",
   "id": "7eac2eba-92eb-44e2-be86-212b8c47da65",
   "metadata": {},
   "source": [
    "# Data Science Tools and Ecosystem "
   ]
  },
  {
   "cell_type": "markdown",
   "id": "fcbecf26-018a-451a-9f33-163f1152ab49",
   "metadata": {},
   "source": [
    "## Author\n",
    "Paulo Areyuna"
   ]
  },
  {
   "cell_type": "markdown",
   "id": "6354df0e-6be6-4c4f-85f8-6db91f3265b7",
   "metadata": {},
   "source": [
    "In this notebook, Data Science Tools and Ecosystem are summarized.\n"
   ]
  },
  {
   "cell_type": "markdown",
   "id": "be675dc9-3a3d-4728-b67a-b1f91f3176a6",
   "metadata": {},
   "source": [
    "**Objectives** \n",
    "\n",
    "* List popular languages for Data Science\n",
    "* List popular libraries used in Data Science\n",
    "* List some data science tools\n",
    "* show basic examples of arithmetics"
   ]
  },
  {
   "cell_type": "markdown",
   "id": "02232734-745b-431a-b50c-3be06fa744ac",
   "metadata": {},
   "source": [
    "Some of the popular languages that Data Scientists use are:\n",
    "1. Python\n",
    "2. R\n",
    "3. Julia"
   ]
  },
  {
   "cell_type": "markdown",
   "id": "d915084e-8cf2-4696-a363-69d304e1e77d",
   "metadata": {},
   "source": [
    "Some of the commonly used libraries used by Data Scientists include:\n",
    "\n",
    "1. pandas\n",
    "2. numpy\n",
    "3. matplotlib\n"
   ]
  },
  {
   "cell_type": "markdown",
   "id": "9db92037-286e-41eb-b845-e02b9d634af3",
   "metadata": {},
   "source": [
    "| Data Science Tools  |\n",
    "|:--------:|\n",
    "|  RStudio  |\n",
    "|  Spyder   |\n",
    "|  VS code   |  "
   ]
  },
  {
   "cell_type": "markdown",
   "id": "988a0dd8-216a-484c-90a2-085a07d286f2",
   "metadata": {
    "tags": []
   },
   "source": [
    "### Below are a few examples of evaluating arithmetic expressions in Python.\n"
   ]
  },
  {
   "cell_type": "code",
   "execution_count": 5,
   "id": "ffe1618e-233c-45c6-8a2b-b49e33c4a084",
   "metadata": {
    "tags": []
   },
   "outputs": [
    {
     "data": {
      "text/plain": [
       "17"
      ]
     },
     "execution_count": 5,
     "metadata": {},
     "output_type": "execute_result"
    }
   ],
   "source": [
    "#This a simple arithmetic expression to mutiply then add integers\n",
    "(3*4)+5"
   ]
  },
  {
   "cell_type": "code",
   "execution_count": 4,
   "id": "c34c307c-8811-47e0-8df7-a550b7bb2af1",
   "metadata": {
    "tags": []
   },
   "outputs": [
    {
     "name": "stdout",
     "output_type": "stream",
     "text": [
      "3.3333333333333335\n"
     ]
    }
   ],
   "source": [
    "#This will convert 200 minutes to hours by diving by 60\n",
    "\n",
    "print(200/60)"
   ]
  },
  {
   "cell_type": "code",
   "execution_count": null,
   "id": "6815a6cc-2c82-4aea-9bfa-ae772e47f508",
   "metadata": {},
   "outputs": [],
   "source": []
  }
 ],
 "metadata": {
  "kernelspec": {
   "display_name": "Python",
   "language": "python",
   "name": "conda-env-python-py"
  },
  "language_info": {
   "codemirror_mode": {
    "name": "ipython",
    "version": 3
   },
   "file_extension": ".py",
   "mimetype": "text/x-python",
   "name": "python",
   "nbconvert_exporter": "python",
   "pygments_lexer": "ipython3",
   "version": "3.7.12"
  }
 },
 "nbformat": 4,
 "nbformat_minor": 5
}
